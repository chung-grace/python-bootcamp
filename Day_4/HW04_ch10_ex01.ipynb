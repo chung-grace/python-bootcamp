{
 "cells": [
  {
   "cell_type": "code",
   "execution_count": null,
   "metadata": {},
   "outputs": [],
   "source": [
    "# I want to be able to call nested_sum from main w/ various nested lists\n",
    "# and I greatly desire that the function returns the sum.\n",
    "# Example of nested list: [1, 2, [3]]\n",
    "#\n",
    "# I will be calling things like this: nested_sum([[1, 2], [3], [4, 5, 6]])\n",
    "# I will be expected that to return, in this case, 21\n",
    "\n",
    "# Verify you've tested w/ various nestings (perhaps by writing a test function\n",
    "# like in the string exercises from Google (string1.py and string2.py))\n",
    "#\n",
    "# In your final submission:\n",
    "#  - Do not print anything extraneous.\n",
    "#  - Do not put anything but pass in main()"
   ]
  },
  {
   "cell_type": "code",
   "execution_count": 29,
   "metadata": {},
   "outputs": [],
   "source": [
    "def nested_sum(lst, sum_nested = 0):\n",
    "    for item in lst:\n",
    "        if type(item) == int:\n",
    "            sum_nested = sum_nested + item\n",
    "        else:\n",
    "            sum_nested = nested_sum(item, sum_nested)\n",
    "    return sum_nested"
   ]
  },
  {
   "cell_type": "code",
   "execution_count": 33,
   "metadata": {},
   "outputs": [
    {
     "name": "stdout",
     "output_type": "stream",
     "text": [
      "Test Cases\n",
      " OK  got: 21 expected: 21\n",
      " OK  got: 6 expected: 6\n",
      " OK  got: 21 expected: 21\n"
     ]
    }
   ],
   "source": [
    "# Provided simple test() function used in main() to print\n",
    "# what each function returns vs. what it's supposed to return.\n",
    "def test(got, expected):\n",
    "    if got == expected:\n",
    "        prefix = ' OK '\n",
    "    else:\n",
    "        prefix = '  X '\n",
    "    print('{} got: {} expected: {}'.format(prefix, repr(got), repr(expected)))\n",
    "\n",
    "\n",
    "# Provided main() calls the above functions with interesting inputs,\n",
    "# using test() to check if each result is correct or not.\n",
    "def main():\n",
    "    print('Test Cases')\n",
    "    # Each line calls nested_sum, compares its result to the expected for that\n",
    "    # call.\n",
    "    test(nested_sum([[1, 2], [3], [4, 5, 6]]), 21)\n",
    "    test(nested_sum([[[[[1, 2, 3]]]]]), 6)\n",
    "    test(nested_sum([1, 2, [3, [4, 5]], [6]]), 21)\n",
    "\n",
    "\n",
    "\n",
    "# Standard boilerplate to call the main() function.\n",
    "if __name__ == '__main__':\n",
    "    main()"
   ]
  },
  {
   "cell_type": "code",
   "execution_count": null,
   "metadata": {},
   "outputs": [],
   "source": []
  }
 ],
 "metadata": {
  "kernelspec": {
   "display_name": "Python 3",
   "language": "python",
   "name": "python3"
  },
  "language_info": {
   "codemirror_mode": {
    "name": "ipython",
    "version": 3
   },
   "file_extension": ".py",
   "mimetype": "text/x-python",
   "name": "python",
   "nbconvert_exporter": "python",
   "pygments_lexer": "ipython3",
   "version": "3.7.4"
  }
 },
 "nbformat": 4,
 "nbformat_minor": 2
}
