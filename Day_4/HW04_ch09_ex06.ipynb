{
 "cells": [
  {
   "cell_type": "code",
   "execution_count": 1,
   "metadata": {},
   "outputs": [
    {
     "name": "stdout",
     "output_type": "stream",
     "text": [
      "True\n",
      "False\n",
      "3\n"
     ]
    }
   ],
   "source": [
    "#!/usr/bin/env python3\n",
    "\n",
    "# (1)\n",
    "# Write a function called is_abecedarian that returns True if the letters in a\n",
    "# word appear in alphabetical order (double letters are ok).\n",
    "#   - write is_abecedarian\n",
    "# (2)\n",
    "# How many abecedarian words are there in roster.txt?\n",
    "#   - write additional function(s) to assist you\n",
    "#   - number of abecedarian words:\n",
    "##############################################################################\n",
    "# Imports\n",
    "\n",
    "\n",
    "# Body\n",
    "def is_abecedarian(word):\n",
    "    return word == \"\".join(sorted(word))\n",
    "\n",
    "\n",
    "def how_many_abecedarian():\n",
    "    with open(\"words2.txt\", \"r\") as fin:\n",
    "        words = [word.strip() for word in fin.readlines()]\n",
    "    return sum([is_abecedarian(word) for word in words])\n",
    "\n",
    "\n",
    "##############################################################################\n",
    "def main():\n",
    "    pass  # Call your function(s) here.\n",
    "    print(is_abecedarian(\"abc\"))\n",
    "    print(is_abecedarian(\"zyxwvutsrqponmlkjihgfedcba\"))\n",
    "    print(how_many_abecedarian())\n",
    "\n",
    "\n",
    "if __name__ == '__main__':\n",
    "    main()\n"
   ]
  },
  {
   "cell_type": "code",
   "execution_count": null,
   "metadata": {},
   "outputs": [],
   "source": []
  }
 ],
 "metadata": {
  "kernelspec": {
   "display_name": "Python 3",
   "language": "python",
   "name": "python3"
  },
  "language_info": {
   "codemirror_mode": {
    "name": "ipython",
    "version": 3
   },
   "file_extension": ".py",
   "mimetype": "text/x-python",
   "name": "python",
   "nbconvert_exporter": "python",
   "pygments_lexer": "ipython3",
   "version": "3.7.4"
  }
 },
 "nbformat": 4,
 "nbformat_minor": 2
}
