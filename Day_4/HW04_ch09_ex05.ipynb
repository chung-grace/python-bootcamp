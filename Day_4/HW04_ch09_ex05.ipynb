{
 "cells": [
  {
   "cell_type": "code",
   "execution_count": 19,
   "metadata": {},
   "outputs": [
    {
     "name": "stdout",
     "output_type": "stream",
     "text": [
      "Insert the name of the text file (example: words.txt): words2.txt\n",
      "Required letters in the word: aeiou\n",
      "0\n"
     ]
    }
   ],
   "source": [
    "#!/usr/bin/env python3\n",
    "\n",
    "# (1)\n",
    "# Write a function named uses_all that takes a word and a string of required\n",
    "# letters, and that returns True if the word uses all the required letters at\n",
    "# least once.\n",
    "#   - write uses_all\n",
    "# (2)\n",
    "# How many words are there that use all the vowels aeiou? How about\n",
    "# aeiouy?\n",
    "#   - write functions(s) to assist you\n",
    "#   - # of words that use all aeiou: 598\n",
    "#   - # of words that use all aeiouy: 42\n",
    "##############################################################################\n",
    "# Imports\n",
    "import os\n",
    "\n",
    "# Body\n",
    "def make_list():\n",
    "    \"\"\"creates a list with words within the text file\"\"\"\n",
    "    lst = []\n",
    "    txt = input('Insert the name of the text file (example: words.txt): ')\n",
    "    file_handle_words = open(txt, 'r')\n",
    "    for word in file_handle_words:\n",
    "        lst.append(word.split('\\n')[0])\n",
    "    return lst\n",
    "\n",
    "def uses_all(word, reqLetters):\n",
    "    flag = True\n",
    "    for reqLetter in reqLetters:\n",
    "        if reqLetter not in word:\n",
    "            flag = False\n",
    "            return flag\n",
    "    return flag\n",
    "        \n",
    "def uses_all_count():\n",
    "    lst = make_list()\n",
    "    count = 0\n",
    "    req = input('Required letters in the word: ')\n",
    "    for word in lst: \n",
    "        if uses_all(word, req):\n",
    "            count = count + 1\n",
    "    return count\n",
    "        \n",
    "##############################################################################\n",
    "def main():\n",
    "    print(uses_all_count())\n",
    "\n",
    "if __name__ == '__main__':\n",
    "    main()\n"
   ]
  }
 ],
 "metadata": {
  "kernelspec": {
   "display_name": "Python 3",
   "language": "python",
   "name": "python3"
  },
  "language_info": {
   "codemirror_mode": {
    "name": "ipython",
    "version": 3
   },
   "file_extension": ".py",
   "mimetype": "text/x-python",
   "name": "python",
   "nbconvert_exporter": "python",
   "pygments_lexer": "ipython3",
   "version": "3.7.4"
  }
 },
 "nbformat": 4,
 "nbformat_minor": 2
}
