{
 "cells": [
  {
   "cell_type": "code",
   "execution_count": 22,
   "metadata": {},
   "outputs": [
    {
     "name": "stdout",
     "output_type": "stream",
     "text": [
      "hi\n",
      "hola\n",
      "annyong\n",
      "60.0%\n"
     ]
    }
   ],
   "source": [
    "#!/usr/bin/env python3\n",
    "\n",
    "# (1)\n",
    "# Write a function called has_no_e that returns True if the given word doesn't\n",
    "# have the letter \"e\" in it.\n",
    "#   - write has_no_e\n",
    "# (2)\n",
    "# Modify your program from 9.1 to print only the words that have no \"e\" and\n",
    "# compute the percentage of the words in the list that have no \"e\".\n",
    "#   - print each approved word on new line, followed at the end by the %\n",
    "#   - name your function print_no_e\n",
    "##############################################################################\n",
    "# Imports\n",
    "import math\n",
    "\n",
    "# Body\n",
    "def has_no_e(word):\n",
    "    for letter in word:\n",
    "        if letter == 'e' or letter == 'E':\n",
    "            return False\n",
    "    return True\n",
    "        \n",
    "def print_no_e(lst):\n",
    "    no_e = 0\n",
    "    total = len(lst)\n",
    "    for word in lst:\n",
    "        if(has_no_e(word)):\n",
    "            print(word)\n",
    "            no_e = no_e + 1\n",
    "    print(str(no_e / total * 100) + \"%\")\n",
    "    \n",
    "    \n",
    "\n",
    "\n",
    "##############################################################################\n",
    "def main():\n",
    "    print_no_e(['hi', 'hello', 'hola', 'annyong', 'yEllow'])\n",
    "\n",
    "if __name__ == '__main__':\n",
    "    main()\n"
   ]
  },
  {
   "cell_type": "code",
   "execution_count": null,
   "metadata": {},
   "outputs": [],
   "source": []
  },
  {
   "cell_type": "code",
   "execution_count": null,
   "metadata": {},
   "outputs": [],
   "source": []
  }
 ],
 "metadata": {
  "kernelspec": {
   "display_name": "Python 3",
   "language": "python",
   "name": "python3"
  },
  "language_info": {
   "codemirror_mode": {
    "name": "ipython",
    "version": 3
   },
   "file_extension": ".py",
   "mimetype": "text/x-python",
   "name": "python",
   "nbconvert_exporter": "python",
   "pygments_lexer": "ipython3",
   "version": "3.7.4"
  }
 },
 "nbformat": 4,
 "nbformat_minor": 2
}
