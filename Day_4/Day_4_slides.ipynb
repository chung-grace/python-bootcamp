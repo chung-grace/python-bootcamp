{
 "cells": [
  {
   "cell_type": "markdown",
   "metadata": {},
   "source": [
    "# Day 4\n",
    "\n",
    "## Sunday - August 11, 2019\n",
    "\n",
    "# Q&A\n",
    "---\n",
    "# Notes\n",
    "- today: consolidation\n",
    "- study hall?\n",
    "- please reach out to us if you aren't submitting assignments\n",
    "\n",
    "# lists\n",
    "a list is a sequence of values, which can be stored and\n",
    "manipulated in variables\n",
    "\n",
    "string are sequences of values, but all `<type 'str'>`\n",
    "list values (list elements or items) can be any type\n",
    "what will this return?\n",
    "\n",
    "```bash\n",
    ">>> s = 'hello'\n",
    ">>> type(s[0])\n",
    "```"
   ]
  },
  {
   "cell_type": "code",
   "execution_count": 1,
   "metadata": {},
   "outputs": [
    {
     "name": "stdout",
     "output_type": "stream",
     "text": [
      "<class 'type'>\n"
     ]
    }
   ],
   "source": [
    "s = 'h9llo'\n",
    "print(type(type(s[0])))"
   ]
  },
  {
   "cell_type": "markdown",
   "metadata": {},
   "source": [
    "# lists: initializing\n",
    "initialize:\n",
    "\n",
    "```bash\n",
    ">>> empty_list = []\n",
    ">>> empty_list2 = list()\n",
    ">>> awesome = ['golden bears', 'nachos', 7, 17.7]\n",
    ">>> print(awesome)\n",
    ">>> print(type(awesome))\n",
    "```\n",
    "\n",
    "print out the types in awesome:\n",
    "\n",
    "```bash\n",
    ">>> for item in awesome:\n",
    "...     print(item, type(item))\n",
    "```"
   ]
  },
  {
   "cell_type": "code",
   "execution_count": 6,
   "metadata": {},
   "outputs": [
    {
     "name": "stdout",
     "output_type": "stream",
     "text": [
      "golden bears\n",
      "nachos\n",
      "7\n",
      "17.7\n",
      "[0, 1, 2, 3]\n"
     ]
    }
   ],
   "source": [
    "awesome = ['golden bears', 'nachos', 7, 17.7]\n",
    "for index in range(len(awesome)):\n",
    "    print(awesome[index])\n",
    "    \n",
    "print(list(range(len(awesome))))"
   ]
  },
  {
   "cell_type": "markdown",
   "metadata": {},
   "source": [
    "# lists: of lists\n",
    "\n",
    "lists in lists:\n",
    "\n",
    "```bash\n",
    ">>> awesome2 = [['golden bears', 'nachos'], [7, 17.7]]\n",
    "```\n",
    "\n",
    "how do we get to 'nachos'?"
   ]
  },
  {
   "cell_type": "code",
   "execution_count": 13,
   "metadata": {},
   "outputs": [
    {
     "name": "stdout",
     "output_type": "stream",
     "text": [
      "nachos\n"
     ]
    }
   ],
   "source": [
    "awesome2 = [['golden bears', 'nachos'], [7, 17.7]]\n",
    "print(awesome2[0][1])\n",
    "# print(awesome2.index('nachos'))  -> does not work, you need to at least know the structure"
   ]
  },
  {
   "cell_type": "markdown",
   "metadata": {},
   "source": [
    "# lists: mutable\n",
    "\n",
    "you can reassign elements in a list using indices\n",
    "\n",
    "```bash\n",
    ">>> awesome[0] = 'oski'\n",
    ">>> print(awesome)\n",
    "['oski', 'nachos', 7, 17.7]\n",
    ">>> 'oski' in awesome\n",
    "True\n",
    ">>> 'stanford' in awesome\n",
    "False\n",
    "```"
   ]
  },
  {
   "cell_type": "markdown",
   "metadata": {},
   "source": [
    "# lists: `len()`, `+`, `*`\n",
    "\n",
    "```bash\n",
    ">>> alist = [3, 4, 5]\n",
    ">>> blist = [7, 8, 9]\n",
    ">>> len(alist)\n",
    "3\n",
    "```\n",
    "\n",
    "```bash\n",
    ">>> print(alist + blist)\n",
    "[3, 4, 5, 7, 8, 9]\n",
    "```\n",
    "\n",
    "```bash\n",
    ">>> twice_alist = alist * 2\n",
    ">>> print(twice_alist)\n",
    "[3, 4, 5, 3, 4, 5]\n",
    "```"
   ]
  },
  {
   "cell_type": "code",
   "execution_count": 27,
   "metadata": {},
   "outputs": [
    {
     "name": "stdout",
     "output_type": "stream",
     "text": [
      "my new list looks like [3, 4, 5, 7, 8, 9] and its length is 6\n",
      "we can also concaternate two lists like this: [[3, 4, 5], [7, 8, 9]]\n"
     ]
    }
   ],
   "source": [
    "alist = [3, 4, 5]\n",
    "blist = [7, 8, 9]\n",
    "new_list = alist + blist\n",
    "another_list = [alist, blist]\n",
    "\n",
    "print('my new list looks like {0} and its length is {1}'.format(new_list, len(new_list)))\n",
    "print('we can also concaternate two lists like this: {0}'.format(another_list))"
   ]
  },
  {
   "cell_type": "code",
   "execution_count": 28,
   "metadata": {},
   "outputs": [
    {
     "name": "stdout",
     "output_type": "stream",
     "text": [
      "[3, 4, 5, 7, 8, 9]\n"
     ]
    }
   ],
   "source": [
    "alist = [3, 4, 5]\n",
    "blist = [7, 8, 9]\n",
    "new_list != [[3, 4, 5], [6, 7, 8]]\n",
    "print(new_list)"
   ]
  },
  {
   "cell_type": "markdown",
   "metadata": {},
   "source": [
    "# lists: slicing, looping, and math\n",
    "\n",
    "```bash\n",
    ">>> int_list = [3, 4, 5, 6, 7]\n",
    ">>> print(int_list[0:3])\n",
    "```\n",
    "\n",
    "```bash\n",
    ">>> for item in int_list:\n",
    "...     print(item)\n",
    "```\n",
    "\n",
    "```bash\n",
    ">>> sum(int_list) # 25\n",
    ">>> max(int_list) # 7\n",
    ">>> min(int_list) # 3\n",
    "```\n",
    "\n",
    "# lists: methods\n",
    "- Add item `x` to end of list (in-place): `list.append(x)`\n",
    "- Remove item x from list: `list.remove(x)`\n",
    "- Remove item at the index: `list.pop(idx)`\n",
    "- Remove + obtain item at index: `item = list.pop(idx)`\n",
    "- Sort (in-place) ascending order: `list.sort()`\n",
    "- Sort (in-place) descending order: `list.reverse()`\n",
    "- Sort and return (to obtain): `newlist = sorted(list)`"
   ]
  },
  {
   "cell_type": "code",
   "execution_count": 42,
   "metadata": {},
   "outputs": [
    {
     "name": "stdout",
     "output_type": "stream",
     "text": [
      "[3, 4, 5, 6]\n",
      "[3, 4, 6]\n",
      "[3, 4]\n",
      "3\n",
      "[4]\n",
      "[9, 8, 7]\n",
      "[7, 8, 9]\n",
      "['a', 'c', 'b']\n",
      "['a', 'b', 'c']\n",
      "['c', 'b', 'a']\n"
     ]
    }
   ],
   "source": [
    "alist = [3, 4, 5]\n",
    "blist = [7, 8, 9]\n",
    "\n",
    "alist.append(6)\n",
    "print(alist)\n",
    "\n",
    "alist.remove(5)\n",
    "print(alist)\n",
    "\n",
    "alist.pop(2)\n",
    "print(alist)\n",
    "\n",
    "#only pop() allows you to assign an item to track what you have removed\n",
    "item = alist.pop(0)\n",
    "print(item)\n",
    "print(alist)\n",
    "\n",
    "blist.reverse()\n",
    "print(blist)\n",
    "\n",
    "blist.sort()\n",
    "print(blist)\n",
    "\n",
    "\n",
    "clist = ['a', 'c', 'b']\n",
    "dlist = sorted(clist)\n",
    "print(clist)\n",
    "print(dlist)\n",
    "\n",
    "print(dlist[::-1])"
   ]
  },
  {
   "cell_type": "markdown",
   "metadata": {},
   "source": [
    "## Python.org Tutorial: [5.1 More on Lists](https://docs.python.org/3/tutorial/datastructures.html#more-on-lists)\n",
    "\n",
    "# strings to lists & lists to strings\n",
    "string method `split()` splits a string and returns a list where\n",
    "each word is an item in the list:\n",
    "\n",
    "```bash\n",
    ">>> phrase = 'She sells seashells by the seashore'\n",
    ">>> word_list = phrase.split()\n",
    ">>> print(word_list)\n",
    "['She', 'sells', 'seashells', 'by', 'the', 'seashore']\n",
    "```\n",
    "\n",
    "\n",
    "string method `join()` takes a list and returns a string:\n",
    "\n",
    "[insert funny story]\n",
    "\n",
    "```bash\n",
    ">>> new_phrase = '-'.join(word_list)\n",
    ">>> print(new_phrase)\n",
    "'She-sells-seashells-by-the-seashore'\n",
    "```\n",
    "\n",
    "---\n",
    "\n",
    "```bash\n",
    ">>> phrase = 'She sells seashells by the seashore'\n",
    ">>> nonword_list = [?????????????????]\n",
    ">>> print(nonword_list)\n",
    "['She', 'ell', 'eashells by the', 'eashore']\n",
    "```\n",
    "\n",
    "---\n",
    "\n",
    "```bash\n",
    ">>> actual_phrase = [?????????????????]\n",
    ">>> print(new_phrase)\n",
    "'She sells seashells by the seashore'\n",
    "```"
   ]
  },
  {
   "cell_type": "code",
   "execution_count": 44,
   "metadata": {},
   "outputs": [
    {
     "name": "stdout",
     "output_type": "stream",
     "text": [
      "['She', 'sells', 'seashells', 'by the seashore']\n"
     ]
    }
   ],
   "source": [
    "phrase = 'She;sells;seashells;by the seashore'\n",
    "word_list = phrase.split(';')\n",
    "print(word_list)"
   ]
  },
  {
   "cell_type": "code",
   "execution_count": 50,
   "metadata": {},
   "outputs": [
    {
     "name": "stdout",
     "output_type": "stream",
     "text": [
      "['She', 'sells', 'seashells', 'by', 'the', 'seashore']\n"
     ]
    },
    {
     "data": {
      "text/plain": [
       "'She sells seashells by the seashore'"
      ]
     },
     "execution_count": 50,
     "metadata": {},
     "output_type": "execute_result"
    }
   ],
   "source": [
    "phrase = 'She sells seashells by the seashore'\n",
    "word_list = phrase.split()\n",
    "print(word_list)\n",
    "' '.join(word_list)\n"
   ]
  },
  {
   "cell_type": "markdown",
   "metadata": {},
   "source": [
    "# lists: `copy`, `deepcopy` and pass by assignment\n",
    "\n",
    "## Python Documentation: [8.10. copy — Shallow and deep copy operations](https://docs.python.org/3/library/copy.html)\n",
    "\n",
    "- `copy.copy(x)`\n",
    "  - `a = x[:]`\n",
    "- `copy.deepcopy(x)`\n",
    "\n",
    "\n",
    "For a further explanation, a Medium post: [What I learned about Python’s pass by assignment mechanism](https://medium.com/@leeyspaul/what-i-learned-about-pythons-pass-by-assignment-mechanism-5834101fb5c3)\n",
    "\n",
    "---\n",
    "\n",
    "### lists: `copy`, `deepcopy` and pass by assignment examples\n",
    "\n",
    "```bash\n",
    ">>> a = [1,2,3]\n",
    ">>> b = a\n",
    ">>> b\n",
    "[1, 2, 3]\n",
    ">>> a\n",
    "[1, 2, 3]\n",
    ">>> a[0] = 100\n",
    ">>> a\n",
    "[100, 2, 3]\n",
    ">>> b\n",
    "[100, 2, 3]\n",
    ">>> \n",
    ">>> c = a[:]\n",
    ">>> \n",
    ">>> a\n",
    "[100, 2, 3]\n",
    ">>> c\n",
    "[100, 2, 3]\n",
    ">>> c[0] = 9\n",
    ">>> c\n",
    "[9, 2, 3]\n",
    ">>> a\n",
    "[100, 2, 3]\n",
    ">>> \n",
    ">>> \n",
    ">>> \n",
    ">>> z = [1, 2, a]\n",
    ">>> z\n",
    "[1, 2, [100, 2, 3]]\n",
    ">>> y = z[:]\n",
    ">>> y\n",
    "[1, 2, [100, 2, 3]]\n",
    ">>> z\n",
    "[1, 2, [100, 2, 3]]\n",
    ">>> z[0] = 99\n",
    ">>> z\n",
    "[99, 2, [100, 2, 3]]\n",
    ">>> y\n",
    "[1, 2, [100, 2, 3]]\n",
    ">>> \n",
    ">>> \n",
    ">>> a\n",
    "[100, 2, 3]\n",
    ">>> a[0] = \"bat\"\n",
    ">>> a\n",
    "['bat', 2, 3]\n",
    ">>> z\n",
    "[99, 2, ['bat', 2, 3]]\n",
    ">>> y\n",
    "[1, 2, ['bat', 2, 3]]\n",
    ">>> \n",
    ">>> \n",
    ">>> \n",
    ">>> import copy\n",
    ">>> x = copy.deepcopy(z)\n",
    ">>> x\n",
    "[99, 2, ['bat', 2, 3]]\n",
    ">>> z\n",
    "[99, 2, ['bat', 2, 3]]\n",
    ">>> a\n",
    "['bat', 2, 3]\n",
    ">>> a[0] = \"ball\"\n",
    ">>> a\n",
    "['ball', 2, 3]\n",
    ">>> z\n",
    "[99, 2, ['ball', 2, 3]]\n",
    ">>> y\n",
    "[1, 2, ['ball', 2, 3]]\n",
    ">>> x\n",
    "[99, 2, ['bat', 2, 3]]\n",
    ">>> \n",
    "```"
   ]
  },
  {
   "cell_type": "code",
   "execution_count": 62,
   "metadata": {
    "scrolled": true
   },
   "outputs": [
    {
     "name": "stdout",
     "output_type": "stream",
     "text": [
      "blist now is: [3, 4, 5]\n",
      "I changed alist to [3, 'hello', 5] and blist now looks like: [3, 'hello', 5] \n",
      "\n",
      "location of the alist is 0x10e2338c0\n",
      "location of the blist is 0x10e2338c0\n",
      "\n",
      "\n",
      "After deep copy, blist now is: [3, 'hello', 5]\n",
      "I changed alist to [3, 'new thang', 5] and blist now looks like: [3, 'hello', 5] \n",
      "\n",
      "location of the alist is 0x10e2338c0\n",
      "location of the blist is 0x10e0e1d70\n"
     ]
    }
   ],
   "source": [
    "alist = [3, 4, 5]\n",
    "blist = alist #shallow copy\n",
    "print('blist now is: {0}'.format(blist))\n",
    "alist[1] = 'hello'\n",
    "print('I changed alist to {0} and blist now looks like: {1} \\n'.format(alist, blist))\n",
    "print('location of the alist is {0}'.format(hex(id(alist))))\n",
    "print('location of the blist is {0}'.format(hex(id(blist))))\n",
    "print('\\n')\n",
    "\n",
    "import copy\n",
    "blist = copy.deepcopy(alist)\n",
    "print('After deep copy, blist now is: {0}'.format(blist))\n",
    "alist[1] = 'new thang'\n",
    "print('I changed alist to {0} and blist now looks like: {1} \\n'.format(alist, blist))\n",
    "\n",
    "print('location of the alist is {0}'.format(hex(id(alist))))\n",
    "print('location of the blist is {0}'.format(hex(id(blist))))"
   ]
  },
  {
   "cell_type": "markdown",
   "metadata": {},
   "source": [
    "# lists: exercise 1\n",
    "write a function called `chop` that takes a list, modifies it by\n",
    "removing the first and last elements, and returns `None`"
   ]
  },
  {
   "cell_type": "code",
   "execution_count": 81,
   "metadata": {},
   "outputs": [
    {
     "name": "stdout",
     "output_type": "stream",
     "text": [
      "[1, 2]\n"
     ]
    }
   ],
   "source": [
    "def chop(lst):\n",
    "    lst.pop(0)\n",
    "    lst.pop(len(lst) - 1)\n",
    "    print(lst)\n",
    "    return None\n",
    "\n",
    "def main():\n",
    "    lst1 = [0, 1, 2, 3]\n",
    "    chop(lst)\n",
    "\n",
    "if __name__ == '__main__':\n",
    "    main()\n"
   ]
  },
  {
   "cell_type": "markdown",
   "metadata": {},
   "source": [
    "# tuples\n",
    "standard sequence data type\n",
    "\n",
    "- A tuple consists of a number of values separated by commas\n",
    "\n",
    "## Python Documentation: [5.3. Tuples and Sequences](https://docs.python.org/3/tutorial/datastructures.html#tuples-and-sequences)\n",
    "> Tuples are immutable, and usually contain a heterogeneous sequence of elements that are accessed via unpacking [ . . . ] or indexing [ . . . ]. Lists are mutable, and their elements are usually homogeneous and are accessed by iterating over the list.\n",
    "\n",
    "# tuples\n",
    "\n",
    "```bash\n",
    ">>> t = ()  # an empty tuple\n",
    ">>> t1 = 1,  # a tuple of len 1\n",
    ">>> t = a, b, c  # tuple packing\n",
    "```\n",
    "\n",
    "# sequence unpacking\n",
    "\n",
    "```bash\n",
    ">>> a, b, c = t # sequence unpacking w/ tuple\n",
    ">>> def f():\n",
    "...     return \"Monty\", \"Python\"\n",
    ">>> x, y = f()\n",
    "```\n",
    "\n",
    "# tuples & immutability\n",
    "immutable, but it's \"contents\" can be changed, ex. a list\n",
    "\n",
    "- example w/ list variable name\n",
    "- counterexamle w/ string variable name\n",
    "\n",
    "---"
   ]
  },
  {
   "cell_type": "code",
   "execution_count": 108,
   "metadata": {},
   "outputs": [
    {
     "name": "stdout",
     "output_type": "stream",
     "text": [
      "(1, 2, 3)\n",
      "1\n",
      "2\n",
      "3\n",
      "('hi', 'hello')\n",
      "((1, 2, 3, (4, 5), [0, 0, 0]), 2)\n",
      "<class 'tuple'>\n",
      "(1, 2, 3, (4, 5), [0, 0, 0])\n",
      "\n",
      "\n",
      "can create tuple dynamically too\n",
      "give me a number: hello\n",
      "give me a number: boo\n",
      "('hello', 'boo')\n"
     ]
    }
   ],
   "source": [
    "# cannot sort a tuple \n",
    "# you use tuple for its limits and restriction \n",
    "\n",
    "\n",
    "t = 1, 2, 3\n",
    "print(t)\n",
    "a, b, c = t\n",
    "print(a)\n",
    "print(b)\n",
    "print(c)\n",
    "t = 'hi', 'hello'\n",
    "print(t)\n",
    "type(t)\n",
    "t = 1\n",
    "type(t)\n",
    "\n",
    "\n",
    "t = ((1, 2, 3, (4, 5), [0, 0, 0]), 2)\n",
    "print(t)\n",
    "a, b= t\n",
    "print(type(a))\n",
    "print(a)\n",
    "print('\\n')\n",
    "\n",
    "\n",
    "\n",
    "print('can create tuple dynamically too')\n",
    "t = (input('give me a number: '), input('give me a number: '))\n",
    "print(t)\n"
   ]
  },
  {
   "cell_type": "code",
   "execution_count": 109,
   "metadata": {},
   "outputs": [
    {
     "name": "stdout",
     "output_type": "stream",
     "text": [
      "('hello', 1, 2)\n",
      "('hello', 1, 2)\n"
     ]
    }
   ],
   "source": [
    "a = 'hello'\n",
    "t = a, 1, 2\n",
    "print(t)\n",
    "#when you assign a to diff value afterwards, tuple doesn't change the value\n",
    "a = 'bye'\n",
    "print(t)"
   ]
  },
  {
   "cell_type": "markdown",
   "metadata": {},
   "source": [
    "### tuples & immutability examples:\n",
    "\n",
    "```bash\n",
    ">>> t = ()\n",
    ">>> t\n",
    "()\n",
    ">>> type(t)\n",
    "<class 'tuple'>\n",
    ">>> t1 = 1,\n",
    ">>> t1\n",
    "(1,)\n",
    ">>> len(t)\n",
    "0\n",
    ">>> len(t1)\n",
    "1\n",
    ">>> t = 1,2,3\n",
    ">>> t\n",
    "(1, 2, 3)\n",
    ">>> t[0] = 6890 # can't do this\n",
    "Traceback (most recent call last):\n",
    "  File \"<stdin>\", line 1, in <module>\n",
    "TypeError: 'tuple' object does not support item assignment\n",
    ">>> t\n",
    "(1, 2, 3)\n",
    ">>> first, second, third = t\n",
    ">>> t\n",
    "(1, 2, 3)\n",
    ">>> first\n",
    "1\n",
    ">>> second\n",
    "2\n",
    ">>> def fun1():\n",
    "...     return \"Monty\", \"Python\"\n",
    "... \n",
    ">>> fun1()\n",
    "('Monty', 'Python')\n",
    ">>> first, last = fun1()\n",
    ">>> first\n",
    "'Monty'\n",
    ">>> last\n",
    "'Python'\n",
    ">>> \n",
    ">>> # contents can be change\n",
    "... \n",
    ">>> list_a = [1,2,3]\n",
    ">>> new_tuple = (1,2,list_a)\n",
    ">>> new_tuple\n",
    "(1, 2, [1, 2, 3])\n",
    ">>> list_a[0] = 9\n",
    ">>> new_tuple\n",
    "(1, 2, [9, 2, 3])\n",
    ">>> \n",
    ">>> name = \"Daniel\"\n",
    ">>> newertuple = (1,2,name)\n",
    ">>> newertuple\n",
    "(1, 2, 'Daniel')\n",
    ">>> name = \"Fred\"\n",
    ">>> newertuple\n",
    "(1, 2, 'Daniel')\n",
    ">>> big_tuple = 1,3,4,123,23,123412342341234112341234,12341234\n",
    ">>> big_tuple = (213412341234,123412341234,1234123241234,12341234,\n",
    "... 12341234,12341234)\n",
    ">>> \n",
    "```"
   ]
  },
  {
   "cell_type": "markdown",
   "metadata": {},
   "source": [
    "# lists: exercise 2\n",
    "write a function that reads `roster.txt` and prints the following:\n",
    "\n",
    "```bash\n",
    "\"A list of first and GitHub usernames (User):\"\n",
    "[First User, First User, First User, etc.]\n",
    "\"A list of lists of first and username:\"\n",
    "[[First, User], [First, User], [First, User], etc.]\n",
    "\"A list of first names sorted by length:\"\n",
    "[ShortFirst, LongFirst, LongerFirst, etc.]\n",
    "```"
   ]
  },
  {
   "cell_type": "code",
   "execution_count": 197,
   "metadata": {
    "scrolled": true
   },
   "outputs": [
    {
     "name": "stdout",
     "output_type": "stream",
     "text": [
      "*First list\n",
      "['Prakhar prakharchandna', 'Tiffany nameistiffyp', 'Mandy mleung32', 'Akshara akshara08', 'Nicole nicoletchi', 'Manasi manasi1994', 'Ramya Ramya0694', 'Max maxmir20', 'Brinda brinsga', 'Yin qyinhelena', 'Min Hyung chung-grace', 'Arika ArikaVerma', 'Esther estherjan', 'Nitin NiStannum']\n",
      "\n",
      "*Second list\n",
      "[['Prakhar', 'prakharchandna'], ['Tiffany', 'nameistiffyp'], ['Mandy', 'mleung32'], ['Akshara', 'akshara08'], ['Nicole', 'nicoletchi'], ['Manasi', 'manasi1994'], ['Ramya', 'Ramya0694'], ['Max', 'maxmir20'], ['Brinda', 'brinsga'], ['Yin', 'qyinhelena'], ['Min Hyung', 'chung-grace'], ['Arika', 'ArikaVerma'], ['Esther', 'estherjan'], ['Nitin', 'NiStannum']]\n",
      "\n",
      "*Third list\n",
      "['Max', 'Yin', 'Mandy', 'Ramya', 'Arika', 'Nitin', 'Nicole', 'Manasi', 'Brinda', 'Esther', 'Prakhar', 'Tiffany', 'Akshara', 'Min Hyung']\n"
     ]
    }
   ],
   "source": [
    "import os \n",
    "file_handle = open('roster.txt', 'r')\n",
    "lst_first = []\n",
    "lst_second = []\n",
    "lst_third = []\n",
    "\n",
    "print('*First list')\n",
    "for row in file_handle:\n",
    "    lst_first.append(row.split('\\n')[0])\n",
    "lst_first.pop(len(lst_first)-1)\n",
    "print(lst_first)\n",
    "\n",
    "print('\\n*Second list')\n",
    "for i in lst_first:\n",
    "    lst_second.append(i.split())\n",
    "\n",
    "for j in lst_second:\n",
    "    if len(j) > 2:\n",
    "        k = j[0:len(j) - 1]\n",
    "        name = ' '.join(k)\n",
    "        j[0] = name\n",
    "        j.pop(1)\n",
    "print(lst_second)\n",
    "\n",
    "print('\\n*Third list')\n",
    "for i in lst_second: \n",
    "    lst_third.append(i[0])\n",
    "lst_third = sorted(lst_third, key = len)\n",
    "print(lst_third)\n",
    "            \n",
    "            \n"
   ]
  },
  {
   "cell_type": "code",
   "execution_count": null,
   "metadata": {},
   "outputs": [],
   "source": [
    "a = [1, 2]\n",
    "print(len(a))"
   ]
  },
  {
   "cell_type": "markdown",
   "metadata": {},
   "source": [
    "# lab - first\n",
    "Please fix HW first:\n",
    "\n",
    "- try\n",
    "- unexpected input\n",
    "\n",
    "Please show us.\n",
    "\n",
    "# lab\n",
    "\n",
    "- write ten random numbers to a file (`random_numbers.txt`)\n",
    "- write a function that reads from `roster.txt` prints the following information to the command line:\n",
    "    - how many names contain the letter ‘e’\n",
    "    - then lists the names which contain the letter ‘e’\n",
    "    - modify script to write results to a file (`e_names.txt`)\n",
    "\n",
    "# HW\n",
    "- Think Python\n",
    "  - Exercises: 9.2, 9.3, 9.4, 9.5, 9.6 (choose three)\n",
    "    - (Chapter 9: Case Study: Word Play)\n",
    "  - Chapter 10: Lists\n",
    "    - Exercise: 10.1\n",
    "\n",
    "# lab time"
   ]
  },
  {
   "cell_type": "code",
   "execution_count": null,
   "metadata": {},
   "outputs": [],
   "source": []
  },
  {
   "cell_type": "markdown",
   "metadata": {},
   "source": [
    "# Updated submission guidelines\n",
    "\n",
    "https://nbviewer.jupyter.org\n",
    "\n",
    "- Push code to *your* Github repo to be able to use the link in Nbviewer\n",
    "- Share URL with us\n",
    "- Please share URLs with us by Friday 5PM"
   ]
  }
 ],
 "metadata": {
  "kernelspec": {
   "display_name": "Python 3",
   "language": "python",
   "name": "python3"
  },
  "language_info": {
   "codemirror_mode": {
    "name": "ipython",
    "version": 3
   },
   "file_extension": ".py",
   "mimetype": "text/x-python",
   "name": "python",
   "nbconvert_exporter": "python",
   "pygments_lexer": "ipython3",
   "version": "3.7.4"
  }
 },
 "nbformat": 4,
 "nbformat_minor": 2
}
