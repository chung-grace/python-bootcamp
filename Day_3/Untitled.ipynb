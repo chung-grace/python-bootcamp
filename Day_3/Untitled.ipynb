{
 "cells": [
  {
   "cell_type": "code",
   "execution_count": 2,
   "metadata": {},
   "outputs": [],
   "source": [
    "def infinite_stairway_room(count=0):\n",
    "    print(\"You walk through the door to see a dimly lit hallway.\")\n",
    "    print(\"At the end of the hallway is a\", count * 'long ', 'staircase'\n",
    "          \" going towards some light\")\n",
    "    next = input(\"> \")\n",
    "\n",
    "    # infinite stairs option\n",
    "    if next == \"take stairs\":\n",
    "        print('You take the stairs')\n",
    "        if (count > 0):\n",
    "            print(\"but you're not happy about it\")\n",
    "        infinite_stairway_room(count + 1)\n",
    "    # option 2 == ?????\n",
    "    if next == option_2:\n",
    "        pass"
   ]
  },
  {
   "cell_type": "code",
   "execution_count": null,
   "metadata": {},
   "outputs": [
    {
     "name": "stdout",
     "output_type": "stream",
     "text": [
      "You walk through the door to see a dimly lit hallway.\n",
      "At the end of the hallway is a  staircase going towards some light\n"
     ]
    }
   ],
   "source": [
    "infinite_stairway_room()"
   ]
  },
  {
   "cell_type": "code",
   "execution_count": null,
   "metadata": {},
   "outputs": [],
   "source": []
  }
 ],
 "metadata": {
  "kernelspec": {
   "display_name": "Python 3",
   "language": "python",
   "name": "python3"
  },
  "language_info": {
   "codemirror_mode": {
    "name": "ipython",
    "version": 3
   },
   "file_extension": ".py",
   "mimetype": "text/x-python",
   "name": "python",
   "nbconvert_exporter": "python",
   "pygments_lexer": "ipython3",
   "version": "3.7.4"
  }
 },
 "nbformat": 4,
 "nbformat_minor": 2
}
