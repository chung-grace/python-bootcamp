{
 "cells": [
  {
   "cell_type": "code",
   "execution_count": null,
   "metadata": {},
   "outputs": [],
   "source": [
    "#!/usr/bin/env python\n",
    "# HW02_ch03_ex02\n",
    "\n",
    "# A function object is a value you can assign to a variable or pass as an\n",
    "# argument. For example, do_twice is a function that takes a function object\n",
    "# as an argument and calls it twice:\n",
    "\n",
    "# def do_twice(f):\n",
    "#     f()\n",
    "#     f()\n",
    "\n",
    "# Here's an example that uses `do_twice` to call a function named `print_spam`\n",
    "# twice.\n",
    "# def print_spam():\n",
    "#     print('spam')\n",
    "\n",
    "# do_twice(print_spam)\n",
    "\n",
    "# 1. Type this example into this script and test it.\n",
    "# 2. Modify `do_twice` so that it takes two arguments, a function object and a\n",
    "# value, and calls the function twice, passing the value as an argument.\n",
    "# 3. Write a more general version of `print_spam`, called `print_twice`, that\n",
    "# takes a string as a parameter and prints it twice.\n",
    "# 4. Use the modified version of `do_twice` to call `print_twice` twice,\n",
    "# passing 'spam' as an argument.\n",
    "# 5. Define a new function called `do_four` that takes a function object and a\n",
    "# value and calls the function four times, passing the value as a parameter.\n",
    "# There should be only two statements in the body of this function, not four.\n",
    "###############################################################################\n",
    "# Write your functions below:\n",
    "# Body\n",
    "def do_twice(f, val):\n",
    "    f(val)\n",
    "    f(val)\n",
    "\n",
    "def print_twice(s):\n",
    "    print(s)\n",
    "    print(s)\n",
    "\n",
    "def do_four(f, val):\n",
    "    do_twice(f, val)\n",
    "    do_twice(f, val)\n",
    "\n",
    "# Write your functions above:\n",
    "###############################################################################\n",
    "def main():\n",
    "    \"\"\"Call your functions within this function.\n",
    "    When complete have one function call in this function:\n",
    "    do_four(print_twice, [some_value])\n",
    "    \"\"\"\n",
    "    do_four(print_twice, \"hello\")\n",
    "\n",
    "\n",
    "if __name__ == \"__main__\":\n",
    "    main()\n"
   ]
  }
 ],
 "metadata": {
  "kernelspec": {
   "display_name": "Python 3",
   "language": "python",
   "name": "python3"
  },
  "language_info": {
   "codemirror_mode": {
    "name": "ipython",
    "version": 3
   },
   "file_extension": ".py",
   "mimetype": "text/x-python",
   "name": "python",
   "nbconvert_exporter": "python",
   "pygments_lexer": "ipython3",
   "version": "3.7.4"
  }
 },
 "nbformat": 4,
 "nbformat_minor": 2
}
