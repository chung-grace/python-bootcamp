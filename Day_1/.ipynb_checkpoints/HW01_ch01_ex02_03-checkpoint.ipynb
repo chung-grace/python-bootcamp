{
 "cells": [
  {
   "cell_type": "code",
   "execution_count": null,
   "metadata": {},
   "outputs": [],
   "source": [
    "# HW01_ch01_ex02_03\n",
    "# Start the Python interpreter and use it as a calculator.\n",
    "# Python's syntax for math operations is almost the same as\n",
    "# standard mathematical notation. For example, the symbols\n",
    "# +, - and / denote addition, subtraction and division, as you would expect.\n",
    "# The symbol for multiplication is *.\n",
    "\n",
    "# If you run a 10 kilometer race in 42 minutes 42 seconds, what is your\n",
    "# average pace (time per mile in minutes and seconds)? What is your average\n",
    "# speed in miles per hour?\n",
    "\n",
    "# Insert Answers\n",
    "# Average Pace (minutes & seconds per mile): 2 minutes 39 seconds per mile\n",
    "# Average Speed in MPH:  22.61 MPH\n",
    "\n",
    "# Insert calculations below (paste from the interpreter):\n",
    "\n",
    "### Average Pace Calculation  \n",
    "# (time in seconds) / (race in miles)\n",
    ">>> (42 * 60 + 42) / (10 * 1.60934)\n",
    "159.1956951296805\n",
    "# Remainder after dividing by 60 (to find time in seconds)\n",
    ">>> 159.1956951296805 % 60\n",
    "39.1956951296805\n",
    "# Find time in minutes\n",
    ">>> (159.1956951296805 - 39.1956951296805)/60\n",
    "2.0\n",
    "\n",
    "### Average Speed in MPH\n",
    "# The average pace in hour (hour per mile)\n",
    ">>> 159.1956951296805 / (60 * 60)\n",
    "0.04422102642491125\n",
    "#Invert the fraction to find mile per hour \n",
    ">>> 1 / 0.04422102642491125\n",
    "22.61367681498829"
   ]
  }
 ],
 "metadata": {
  "kernelspec": {
   "display_name": "Python 3",
   "language": "python",
   "name": "python3"
  },
  "language_info": {
   "codemirror_mode": {
    "name": "ipython",
    "version": 3
   },
   "file_extension": ".py",
   "mimetype": "text/x-python",
   "name": "python",
   "nbconvert_exporter": "python",
   "pygments_lexer": "ipython3",
   "version": "3.7.4"
  }
 },
 "nbformat": 4,
 "nbformat_minor": 2
}
