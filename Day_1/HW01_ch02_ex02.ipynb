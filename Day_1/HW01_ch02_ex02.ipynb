{
 "cells": [
  {
   "cell_type": "code",
   "execution_count": null,
   "metadata": {},
   "outputs": [],
   "source": [
    "# HW01_ch02_ex02\n",
    "# NOTE: You do not run this script.\n",
    "# #\n",
    "# Practice using the Python interpreter as a calculator.\n",
    "# Paste answer and calculations below\n",
    "\n",
    "# 1. The volume of a sphere with radius r is 4/3 π r^3.\n",
    "# What is the volume of a sphere with radius 5? 523.3333333333334\n",
    "# [calculations here]\n",
    ">>> (4 / 3) * 3.14 * (5 ** 3)\n",
    "\n",
    "# 2. Suppose the cover price of a book is $24.95, but bookstores get a\n",
    "# 40% discount. Shipping costs $3 for the first copy and 75 cents for\n",
    "# each additional copy. What is the total wholesale cost for 60 copies?\n",
    "# total wholesale cost: 945.4499999999999\n",
    "# [calculations here]\n",
    ">>> (24.95 * 60 * 0.6) + 3 + (0.75 * 59) \n",
    "\n",
    "# 3. If I leave my house at 6:52 am and run 1 mile at an easy pace\n",
    "# (8:15 per mile), then 3 miles at tempo (7:12 per mile) and 1 mile at easy\n",
    "# pace again, what time do I get home for breakfast?\n",
    "# time: 7:30 am \n",
    "# [calculations here]\n",
    ">>> 2 * (8 * 60 + 15) + 3 * (7 * 60 + 12)\n",
    "2286\n",
    ">>> 2286 / 60 \n",
    "38.1 \n",
    "# therefore, I will go home 38 minutes after I leave my house -> 7:30 am "
   ]
  }
 ],
 "metadata": {
  "kernelspec": {
   "display_name": "Python 3",
   "language": "python",
   "name": "python3"
  },
  "language_info": {
   "codemirror_mode": {
    "name": "ipython",
    "version": 3
   },
   "file_extension": ".py",
   "mimetype": "text/x-python",
   "name": "python",
   "nbconvert_exporter": "python",
   "pygments_lexer": "ipython3",
   "version": "3.7.4"
  }
 },
 "nbformat": 4,
 "nbformat_minor": 2
}
