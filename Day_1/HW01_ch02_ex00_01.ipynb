{
 "cells": [
  {
   "cell_type": "code",
   "execution_count": null,
   "metadata": {},
   "outputs": [],
   "source": [
    "# HW01_ch02_ex00_01\n",
    "# See section 2.4\n",
    "# (1) Type the following statements in the Python interpreter to see what they\n",
    "# do:\n",
    "# 5\n",
    "# x = 5\n",
    "# x + 1\n",
    "#\n",
    "# (2) Now put the same statements into a script [this script] and run it.\n",
    "# enter statements below this line ########\n",
    "\n",
    "print(5)\n",
    "print(x = 5)\n",
    "print(x + 1)\n",
    "\n",
    "# enter statements above this line ########\n",
    "# What is the output? No output as the script did not print anything \n",
    "# [copy and past output here]\n",
    "#\n",
    "# (3) Modify the script above by transforming each expression into a print\n",
    "# statement and then run it again.\n",
    "# What is the output?\n",
    "# 5\n",
    "# Traceback (most recent call last):\n",
    "#   File \"HW01_ch02_ex00_01.py\", line 13, in <module>\n",
    "#     print(x = 5)\n",
    "# TypeError: 'x' is an invalid keyword argument for print()\n"
   ]
  }
 ],
 "metadata": {
  "kernelspec": {
   "display_name": "Python 3",
   "language": "python",
   "name": "python3"
  },
  "language_info": {
   "codemirror_mode": {
    "name": "ipython",
    "version": 3
   },
   "file_extension": ".py",
   "mimetype": "text/x-python",
   "name": "python",
   "nbconvert_exporter": "python",
   "pygments_lexer": "ipython3",
   "version": "3.7.4"
  }
 },
 "nbformat": 4,
 "nbformat_minor": 2
}
