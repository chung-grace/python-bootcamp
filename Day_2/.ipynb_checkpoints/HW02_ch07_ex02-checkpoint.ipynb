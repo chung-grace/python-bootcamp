{
 "cells": [
  {
   "cell_type": "code",
   "execution_count": 2,
   "metadata": {},
   "outputs": [
    {
     "name": "stdout",
     "output_type": "stream",
     "text": [
      "What would you like to evaluate: 2+3\n",
      "5\n",
      "What would you like to evaluate: done\n",
      "5\n"
     ]
    }
   ],
   "source": [
    "#!/usr/bin/env python3\n",
    "# HW04_ch07_ex02\n",
    "\n",
    "# The built-in function eval takes a string and evaluates it using the Python\n",
    "# interpreter.\n",
    "# For example:\n",
    "\n",
    "#     >>> eval('1 + 2 * 3')\n",
    "#     7\n",
    "#     >>> import math\n",
    "#     >>> eval('math.sqrt(5)')\n",
    "#     2.2360679774997898\n",
    "#     >>> eval('type(math.pi)')\n",
    "#     <type 'float'>\n",
    "\n",
    "# Write a function called eval_loop that iteratively prompts the user, takes\n",
    "# the resulting input and evaluates it using eval, and prints the result.\n",
    "\n",
    "# It should continue until the user enters 'done', and then return the value of\n",
    "# the last expression it evaluated.\n",
    "\n",
    "# Here is an opportunity to use things like `try`, `except`, and/or `finally`.\n",
    "\n",
    "# Please write a docstring for every function you write.\n",
    "\n",
    "###############################################################################\n",
    "# Imports\n",
    "import math\n",
    "\n",
    "# Body\n",
    "def eval_loop():\n",
    "    s = None\n",
    "    last_value = None\n",
    "    while (s != 'done'):\n",
    "        try:\n",
    "            s = input(\"What would you like to evaluate: \")\n",
    "            if (s == 'done'):\n",
    "                return last_value\n",
    "            print(eval(s))\n",
    "            last_value = eval(s)\n",
    "        except (NameError, TypeError, ValueError):\n",
    "            return \"You screwed something up...\"\n",
    "\n",
    "    \n",
    "\n",
    "\n",
    "\n",
    "        \n",
    "\n",
    "###############################################################################\n",
    "def main():\n",
    "    print(eval_loop())\n",
    "\n",
    "\n",
    "if __name__ == '__main__':\n",
    "    main()\n"
   ]
  },
  {
   "cell_type": "markdown",
   "metadata": {},
   "source": [
    "# Recursive version"
   ]
  },
  {
   "cell_type": "code",
   "execution_count": 1,
   "metadata": {},
   "outputs": [
    {
     "name": "stdout",
     "output_type": "stream",
     "text": [
      "type something: 2+3\n",
      "5\n",
      "type something: done\n",
      "Previous result: 5\n",
      "None\n"
     ]
    }
   ],
   "source": [
    "def eval_loop(PrevResult = None):\n",
    "    UserInput = input(\"type something: \")\n",
    "    if UserInput == \"done\":\n",
    "        print (\"Previous result:\", PrevResult)\n",
    "    else:\n",
    "        try:\n",
    "            PrevResult = eval(UserInput)\n",
    "            print(PrevResult)\n",
    "            print(\"hello\")\n",
    "            eval_loop(PrevResult)\n",
    "        except (NameError, TypeError, ValueError):\n",
    "            print(\"You screwed something up...\")\n",
    "            eval_loop(PrevResult)\n",
    "            \n",
    "def main():\n",
    "    print(eval_loop())\n",
    "\n",
    "\n",
    "if __name__ == '__main__':\n",
    "    main()"
   ]
  },
  {
   "cell_type": "code",
   "execution_count": null,
   "metadata": {},
   "outputs": [],
   "source": []
  },
  {
   "cell_type": "code",
   "execution_count": null,
   "metadata": {},
   "outputs": [],
   "source": []
  }
 ],
 "metadata": {
  "kernelspec": {
   "display_name": "Python 3",
   "language": "python",
   "name": "python3"
  },
  "language_info": {
   "codemirror_mode": {
    "name": "ipython",
    "version": 3
   },
   "file_extension": ".py",
   "mimetype": "text/x-python",
   "name": "python",
   "nbconvert_exporter": "python",
   "pygments_lexer": "ipython3",
   "version": "3.7.4"
  }
 },
 "nbformat": 4,
 "nbformat_minor": 2
}
