{
 "cells": [
  {
   "cell_type": "code",
   "execution_count": null,
   "metadata": {},
   "outputs": [
    {
     "name": "stdout",
     "output_type": "stream",
     "text": [
      "Give me a number: 1\n",
      "Too high!\n"
     ]
    }
   ],
   "source": [
    "import random\n",
    "randNum = random.randint(1,25)\n",
    "print(randNum)\n",
    "\n",
    "for i in range(0,5): \n",
    "    try:\n",
    "        x = int(input(\"Give me a number: \"))\n",
    "    except ValueError:\n",
    "        print(\"You screwed something up...\")\n",
    "    if x == randNum:\n",
    "        print(\"You guessed correctly\")\n",
    "        break\n",
    "    elif x > randNum:\n",
    "        print(\"Too low!\")\n",
    "    elif x < randNum: \n",
    "        print(\"Too high!\")\n",
    "        "
   ]
  },
  {
   "cell_type": "code",
   "execution_count": null,
   "metadata": {},
   "outputs": [],
   "source": []
  }
 ],
 "metadata": {
  "kernelspec": {
   "display_name": "Python 3",
   "language": "python",
   "name": "python3"
  },
  "language_info": {
   "codemirror_mode": {
    "name": "ipython",
    "version": 3
   },
   "file_extension": ".py",
   "mimetype": "text/x-python",
   "name": "python",
   "nbconvert_exporter": "python",
   "pygments_lexer": "ipython3",
   "version": "3.7.4"
  }
 },
 "nbformat": 4,
 "nbformat_minor": 2
}
