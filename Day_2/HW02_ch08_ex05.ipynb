{
 "cells": [
  {
   "cell_type": "code",
   "execution_count": null,
   "metadata": {},
   "outputs": [],
   "source": [
    "# Structure this script entirely on your own.\n",
    "# See Chapter 8: Strings Exercise 5 for the task.\n",
    "# Please do provide function calls that test/demonstrate your\n",
    "# function.\n",
    "# Please write a docstring for every function you write.\n",
    "\n",
    "# A Caesar cypher is a weak form of encryption that involves “rotating” each letter by a fixed number of places. \n",
    "# To rotate a letter means to shift it through the alphabet, wrapping around to the beginning if necessary, \n",
    "# so ’A’ rotated by 3 is ’D’ and ’Z’ rotated by 1 is ’A’.\n",
    "# To rotate a word, rotate each letter by the same amount. For example, “cheer” rotated by 7 is “jolly” and \n",
    "# “melon” rotated by -10 is “cubed”. In the movie 2001: A Space Odyssey, the ship computer is called HAL, \n",
    "# which is IBM rotated by -1.\n",
    "\n",
    "# Write a function called rotate_word that takes a string and an integer as parameters, and returns a new string \n",
    "# that contains the letters from the original string rotated by the given amount.\n",
    "\n",
    "# You might want to use the built-in function ord, which converts a character to a numeric code, and chr, \n",
    "# which converts numeric codes to characters. Letters of the alphabet are encoded in alphabetical order, \n",
    "# so for example:\n",
    "# >>> ord('c') - ord('a')\n",
    "# 2\n",
    "# Because 'c' is the two-eth letter of the alphabet. But beware: the numeric codes for upper case letters are different.\n",
    "\n",
    "def rotate_word(word, num):\n",
    "    ans = ''\n",
    "    #created four loop to go through each letter to reassign it with the new order number in variable ans\n",
    "    for letter in word:\n",
    "        ans = ans + chr(ord(letter) + num)\n",
    "    return ans\n",
    "\n",
    "def main():\n",
    "    pass  # Remove this line and uncomment below once eval_loop is defined.\n",
    "    print(rotate_word('IBM', -1))\n",
    "    print(rotate_word('cheer', 7))\n",
    "    # this gives me 'c[bed' instead of 'cubed', could you explain why my code is flawed? \n",
    "    print(rotate_word('melon', -10))\n",
    "\n",
    "if __name__ == '__main__':\n",
    "    main()"
   ]
  }
 ],
 "metadata": {
  "kernelspec": {
   "display_name": "Python 3",
   "language": "python",
   "name": "python3"
  },
  "language_info": {
   "codemirror_mode": {
    "name": "ipython",
    "version": 3
   },
   "file_extension": ".py",
   "mimetype": "text/x-python",
   "name": "python",
   "nbconvert_exporter": "python",
   "pygments_lexer": "ipython3",
   "version": "3.7.4"
  }
 },
 "nbformat": 4,
 "nbformat_minor": 2
}
