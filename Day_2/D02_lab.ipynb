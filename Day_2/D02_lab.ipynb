{
 "cells": [
  {
   "cell_type": "code",
   "execution_count": null,
   "metadata": {},
   "outputs": [],
   "source": [
    "#!/usr/bin/env python3\n",
    "# D04_ex00\n",
    "\n",
    "# Create a program that does the following:\n",
    "#     - creates a random integer from 1 - 25\n",
    "#     - asks the user to guess what the number is\n",
    "#     - validates input is a number\n",
    "#     - tells the user if they guess correctly\n",
    "#         - if not: tells them too high/low\n",
    "#     - only lets the user guess five times\n",
    "#         - then ends the program\n",
    "\n",
    "# Please write a docstring for every function you write.\n",
    "\n",
    "###############################################################################\n",
    "# Imports\n",
    "import random\n",
    "\n",
    "# Body\n",
    "\n",
    "\n",
    "###############################################################################\n",
    "def main():\n",
    "    \n",
    "    # Create random integer from 1 - 25\n",
    "    randNum = random.randint(1,25)\n",
    "    \n",
    "    #For loop to iterate five times -> only lets the user guess five times\n",
    "    for i in range(0,5): \n",
    "        # Asks the user to guess what the number is\n",
    "        try:\n",
    "            x = int(input(\"Give me a number: \"))\n",
    "        #Validates input is a number\n",
    "        except ValueError:\n",
    "            print(\"You screwed something up...\")\n",
    "        # Tells the user if they guessed correctly, if yes exit the loop\n",
    "        if x == randNum:\n",
    "            print(\"You guessed correctly\")\n",
    "            break\n",
    "        # If the guessed number is too high, then tell the user that it's too high\n",
    "        elif x > randNum:\n",
    "            print(\"Too high!\")\n",
    "            \n",
    "        # If the guessed number is too low, then tell the user that it's too low\n",
    "        elif x < randNum: \n",
    "            print(\"Too low!\")\n",
    "\n",
    "#execute the main function\n",
    "if __name__ == '__main__':\n",
    "    main()\n"
   ]
  }
 ],
 "metadata": {
  "kernelspec": {
   "display_name": "Python 3",
   "language": "python",
   "name": "python3"
  },
  "language_info": {
   "codemirror_mode": {
    "name": "ipython",
    "version": 3
   },
   "file_extension": ".py",
   "mimetype": "text/x-python",
   "name": "python",
   "nbconvert_exporter": "python",
   "pygments_lexer": "ipython3",
   "version": "3.7.4"
  }
 },
 "nbformat": 4,
 "nbformat_minor": 2
}
